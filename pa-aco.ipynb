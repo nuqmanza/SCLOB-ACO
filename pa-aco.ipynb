{
 "cells": [
  {
   "cell_type": "markdown",
   "metadata": {},
   "source": [
    "# 1. Import Libraries"
   ]
  },
  {
   "cell_type": "code",
   "execution_count": 1,
   "metadata": {},
   "outputs": [],
   "source": [
    "import time\n",
    "import multiprocessing\n",
    "import pandas as pd\n",
    "import numpy as np\n",
    "import random\n",
    "from numpy import inf"
   ]
  },
  {
   "cell_type": "markdown",
   "metadata": {},
   "source": [
    "# 2. Parameters"
   ]
  },
  {
   "cell_type": "code",
   "execution_count": 3,
   "metadata": {},
   "outputs": [],
   "source": [
    "init_pheromone = 1  # Initial Pheromone\n",
    "max_iter = 4        # Number of Iterations\n",
    "max_transaction = 5 # Number of Transactions per Ant\n",
    "ant = 5           # Number of Ants\n",
    "rho = 0.05          # Pheromone Evaporation Rate\n",
    "alpha = 1           # Pheromone Exponential Parameter\n",
    "beta = 1            # Desirabillity Exponential Parameter\n",
    "pheromone_scale = 1 # Pheromone Scaling"
   ]
  },
  {
   "cell_type": "markdown",
   "metadata": {},
   "source": [
    "# 3. Data Sets"
   ]
  },
  {
   "cell_type": "code",
   "execution_count": 4,
   "metadata": {},
   "outputs": [],
   "source": [
    "dataOL = pd.read_excel(r'sclp.xlsx', sheet_name='OrderList')\n",
    "dataFR = pd.read_excel(r'sclp.xlsx', sheet_name='FreightRates')\n",
    "dataWhCost = pd.read_excel(r'sclp.xlsx', sheet_name='WhCosts')\n",
    "dataWhCap = pd.read_excel(r'sclp.xlsx', sheet_name='WhCapacities')"
   ]
  },
  {
   "cell_type": "markdown",
   "metadata": {},
   "source": [
    "# 4. Data Preprocessing"
   ]
  },
  {
   "cell_type": "code",
   "execution_count": 5,
   "metadata": {},
   "outputs": [
    {
     "name": "stdout",
     "output_type": "stream",
     "text": [
      "Order Date\n",
      "2013-05-26    9215\n",
      "dtype: int64\n"
     ]
    }
   ],
   "source": [
    "#1 ORDER LIST\n",
    "\n",
    "# 1.1 There is only one date in the order list, threfore it wont play any significant role for the optimization.\n",
    "date_check = dataOL.groupby(['Order Date']).size()\n",
    "print(date_check) \n",
    "\n",
    "# 1.2 Order Date, TPT, Ship ahead day count, Ship Late Day count will be removed as they are not within the scope of this optimization.\n",
    "dataOL=dataOL.drop(columns=['Order Date','TPT','Ship ahead day count','Ship Late Day count'])\n",
    "\n",
    "# 1.3 carrier_check is to check the distinct value of carriers. Which then will be used to filter only the necessary carriers for the transportation.\n",
    "carrier_check = dataOL.groupby(['Carrier']).size().reset_index()\n",
    "carrier_list = pd.Series({cc: carrier_check[cc].unique() for cc in carrier_check})\n",
    "\n",
    "# 1.4 port_check is to check the distinct value of ports. Which then will be used to filter only the necessary origin ports for the transportation.\n",
    "port_check = dataOL.groupby(['Origin Port']).size().reset_index()\n",
    "port_list = pd.Series({pc: port_check[pc].unique() for pc in port_check})\n",
    "\n",
    "# 1.5 plant_check is to check the distinct value of warehouses. Which then will be used to filter only the necessary warehouses for the transportation.\n",
    "#     It will also be used to filter the warehouse needed to use based on the Warehouse Cost Dataframe and also Warehouse Capacity DataFrame.\n",
    "plant_check = dataOL.groupby(['Plant Code']).size().reset_index()\n",
    "plant_list = pd.Series({pc: plant_check[pc].unique() for pc in plant_check})\n",
    "\n",
    "# [2 FREIGHT RATE]\n",
    "# 2.1 Filter the Freight Rate DataFrame to only get the necessary carriers to the existing Order List DataFrame.\n",
    "dataFR = dataFR[dataFR['Carrier'].isin(carrier_list['Carrier'])]\n",
    "\n",
    "# 2.2 Filter the Freight Rate DataFrame to only get the necessary carriers to the existing Order List DataFrame.\n",
    "dataFR = dataFR[dataFR['orig_port_cd'].isin(port_list['Origin Port'])]\n",
    "\n",
    "# 2.3 Drop out tpt_day_cnt and carrier type as they are not needed for the optimization.\n",
    "dataFR = dataFR.drop(columns=['tpt_day_cnt','Carrier type'])\n",
    "\n",
    "# 3 [WAREHOUSE COST]\n",
    "# 3.1 Filter the Warehouse Cost DataFrame to only get the necessary warehouses to the existing Order List DataFrame.\n",
    "dataWhCost = dataWhCost[dataWhCost['WH'].isin(plant_list['Plant Code'])]\n",
    "\n",
    "# 4 [WAREHOUSE CAPACITY]\n",
    "# 4.1 Filter the Warehouse Cost DataFrame to only get the necessary warehouses to the existing Order List DataFrame.\n",
    "dataWhCap = dataWhCap[dataWhCap['Plant ID'].isin(plant_list['Plant Code'])]\n"
   ]
  },
  {
   "cell_type": "markdown",
   "metadata": {},
   "source": [
    "# 5. Main Function"
   ]
  },
  {
   "cell_type": "code",
   "execution_count": null,
   "metadata": {},
   "outputs": [],
   "source": [
    "#Pheromone Initialisation\n",
    "dataOL['Pheromone'] = init_pheromone\n",
    "dataFR['Pheromone'] = init_pheromone\n",
    "\n",
    "#The number of Iterations of the Ant Colony.\n",
    "for colony_iter in range(max_iter):\n",
    "\n",
    "    #The number of Ants in a single Colony Iteration.\n",
    "    processes= []\n",
    "    res = []\n",
    "    res_aco_t = multiprocessing.Queue()\n",
    "\n",
    "    for _ in range(ant):\n",
    "\n",
    "        p = multiprocessing.Process(target=aco_traversal, args=(colony_iter,max_transaction,init_pheromone,res_aco_t))\n",
    "        p.start()\n",
    "        processes.append(p)\n",
    "        \n",
    "    for process in processes:\n",
    "        process.join()\n",
    "\n",
    "    for _ in range(ant):\n",
    "        x = res_aco_t.get()\n",
    "        res.append(x)\n",
    "\n",
    "    fitness = objective_function(res)\n",
    "    dataOL,dataFR = pheromone_update(res,fitness)\n",
    "    # print(dataOL.where(dataOL['Pheromone']>0).dropna())\n",
    "    \n",
    "\n"
   ]
  },
  {
   "cell_type": "markdown",
   "metadata": {},
   "source": [
    "# 6. Funtions"
   ]
  },
  {
   "cell_type": "markdown",
   "metadata": {},
   "source": [
    "## 6.1 ACO Traversal Function"
   ]
  },
  {
   "cell_type": "code",
   "execution_count": 15,
   "metadata": {},
   "outputs": [],
   "source": [
    "# def aco_traversal(max_transaction,var):\n",
    "def aco_traversal(colony_iter,max_transaction,init_pheromone,res_aco_t):\n",
    "    p = multiprocessing.current_process()\n",
    "    print('[ANT ENTERING]')\n",
    "    current_transaction = 0 # The current Order Transaction for an Ant.\n",
    "    result = []\n",
    "    total_cost = 0\n",
    "    dataOL_sub, dataFR_sub, dataWhCap_sub, dataWhCost_sub = fresh_dataframes(dataOL, dataFR, dataWhCap, dataWhCost)\n",
    "\n",
    "    dataOL_sub['Status'] = True\n",
    "    dataFR_sub['Status'] = True\n",
    "    potential_transaction = pd.DataFrame()\n",
    "    order_carrier_record = pd.DataFrame()\n",
    "    \n",
    "\n",
    "    #The Loop Will Go On Until Max Number of Transactions Has Been Reached.\n",
    "    while current_transaction < max_transaction:\n",
    "        print(current_transaction)\n",
    "        route_status = True\n",
    "        use_carrier = True                      #Does the logistics requires carriers?\n",
    "        order_carrier_status = False            #Has the carrier been used?\n",
    "        carrier_index,carrier_index_index = 0,0 # Index for The Carrier and The Index's Index\n",
    "\n",
    "        f_data_ol_status = (dataOL_sub['Status'] == True) # [FILTER]\n",
    "\n",
    "        #PORT SELECTION SEGMENT\n",
    "        p_origin_port_availability = dataOL_sub.where(f_data_ol_status).groupby(['Origin Port','Status'])['Pheromone'].sum().reset_index()\n",
    "        selected_port = selection(p_origin_port_availability,'[PORT SELECTION]')    # [SELECTION] Selection Process for PORT  \n",
    "\n",
    "        #PLANT CODE SELECTION SEGMENT\n",
    "        p_plant_availability = dataOL_sub.where(f_data_ol_status).groupby(['Origin Port','Plant Code','Status','Pheromone']).size().reset_index(name='Availability')\n",
    "        f_origin_port = (p_plant_availability[\"Origin Port\"] == selected_port) # [FILTER] Selected Origin Port Filter\n",
    "        p_plant_availability = p_plant_availability.where(f_origin_port).groupby(['Plant Code','Status'])['Pheromone'].sum().reset_index()\n",
    "        selected_plant_code = selection(p_plant_availability,'[PLANT SELECTION]') # [SELECTION] Selection Process for PLANT CODE\n",
    "\n",
    "        #ORDER ID SELECTION SEGMENT\n",
    "        f_plant_from_dataOL = (dataOL_sub[\"Plant Code\"] == selected_plant_code) # [FILTER] Selected Plant Filter DataOL\n",
    "        f_port_from_dataOL = (dataOL_sub[\"Origin Port\"] == selected_port) # [FILTER] Selected Origin Port Filter DataOL\n",
    "        path_order_availability = dataOL_sub.where(f_plant_from_dataOL & f_port_from_dataOL & f_data_ol_status).groupby(['Order ID','Service Level','Carrier','Status'])['Pheromone'].sum().reset_index()\n",
    "        selected_path_order = selection(path_order_availability,'[ORDER ID SELECTION]')\n",
    "        # print([selected_path_order['Order ID'][0]])\n",
    "        \n",
    "        #CARRIER SELECTION SEGMENT\n",
    "        f_carrier_carrier = (dataFR_sub['Carrier'] == selected_path_order['Carrier'][0]) # [FILTER]\n",
    "        f_carrier_order_origin = (dataFR_sub['orig_port_cd'] == selected_port) # [FILTER]\n",
    "\n",
    "        if selected_path_order['Carrier'][0] != 'V44_3':\n",
    "            f_carrier_sel = (dataFR_sub['Status'] == True)\n",
    "            carrier_availability = dataFR_sub.where(f_carrier_order_origin & f_carrier_sel).groupby([dataFR_sub.index,'Carrier','orig_port_cd','svc_cd','minm_wgh_qty','max_wgh_qty','Status'])['Pheromone'].sum().reset_index()\n",
    "            selected_carrier = selection(carrier_availability,'[CARRIER SELECTION]')\n",
    "        else:\n",
    "            use_carrier = False #No Carriers Needed\n",
    "            selected_carrier = 'CRF'\n",
    "        \n",
    "        # print(selected_port,selected_plant_code,selected_path_order)\n",
    "        if use_carrier:\n",
    "            # [SINGLE ROW DATAFRAME]\n",
    "            potential_transaction = pd.DataFrame(   {'Port': [selected_port],\n",
    "                                                    'Plant Code' : [selected_plant_code],\n",
    "                                                    'Order ID' : [selected_path_order['Order ID'][0]],\n",
    "                                                    'Service ID' : [selected_path_order['Service Level'][0]],\n",
    "                                                    'Carrier' : [selected_path_order['Carrier'][0]],\n",
    "                                                    'Carrier Index' : [selected_carrier['level_0'][0]],\n",
    "                                                    'Status' : [True],\n",
    "                                                    'Pheromone' : 0,\n",
    "                                                    'Cost' : 0})\n",
    "\n",
    "            if order_carrier_record.empty is not True:\n",
    "\n",
    "                # [FILTERS]\n",
    "                f_ocr_port = order_carrier_record['Port'] == selected_port\n",
    "                f_ocr_plant = order_carrier_record['Plant Code'] == selected_plant_code\n",
    "                f_ocr_order = order_carrier_record['Order ID'] == selected_path_order['Order ID'][0]\n",
    "                f_ocr_service = order_carrier_record['Service ID'] == selected_path_order['Service Level'][0]\n",
    "                f_ocr_carrier = order_carrier_record['Carrier'] == selected_path_order['Carrier'][0]\n",
    "                f_ocr_carrier_index = order_carrier_record['Carrier Index'] == selected_carrier['level_0'][0]\n",
    "                f_ocr_status = order_carrier_record['Status'] == True\n",
    "                \n",
    "                ocr = order_carrier_record.where(f_ocr_port & f_ocr_plant & f_ocr_order & f_ocr_service & f_ocr_carrier & f_ocr_carrier_index).dropna()\n",
    "                if ocr.empty:\n",
    "                    order_carrier_record = pd.concat([order_carrier_record,potential_transaction], ignore_index = True, axis = 0)\n",
    "                else:\n",
    "                    route_status = False\n",
    "                    \n",
    "            else:\n",
    "                order_carrier_record = pd.concat([order_carrier_record,potential_transaction], ignore_index = True, axis = 0)\n",
    "\n",
    "        else:\n",
    "            # [SINGLE ROW DATAFRAME]\n",
    "            potential_transaction = pd.DataFrame(   {'Port': [selected_port],\n",
    "                                                    'Plant Code' : [selected_plant_code],\n",
    "                                                    'Order ID' : [selected_path_order['Order ID'][0]],\n",
    "                                                    'Service ID' : [selected_path_order['Service Level'][0]],\n",
    "                                                    'Carrier' : 'No Carrier',\n",
    "                                                    'Carrier Index' : 'No Carrier',\n",
    "                                                    'Status' : [True],\n",
    "                                                    'Pheromone' : 0,\n",
    "                                                    'Cost' : 0})\n",
    "            \n",
    "            order_carrier_record = pd.concat([order_carrier_record,potential_transaction], ignore_index = True, axis = 0)\n",
    "\n",
    "        # COST CALCULATION\n",
    "        if use_carrier:\n",
    "            #kira t cost\n",
    "            #order_carrier_record\n",
    "            t_cost = transportation_cost(selected_path_order,selected_carrier,dataOL_sub,dataFR_sub)\n",
    "            \n",
    "            if type(t_cost) is str:\n",
    "                route_status = False\n",
    "            else:\n",
    "                total_cost += t_cost\n",
    "            #kira whcost''\n",
    "        \n",
    "        wh_cost = warehouse_cost(dataWhCost_sub,dataWhCap_sub,selected_path_order,selected_plant_code,dataOL_sub)\n",
    "        \n",
    "        if type(wh_cost) is str:\n",
    "            route_status = False\n",
    "        else:\n",
    "            total_cost += wh_cost\n",
    "\n",
    "        #AVAILABILITY UPDATE\n",
    "        if route_status:\n",
    "\n",
    "            # UPDATE FOR ORDER ID\n",
    "            f_data_OL_index = dataOL[dataOL['Order ID']==selected_path_order['Order ID'][0]].index.values #filter index finding\n",
    "            dataOL_sub.at[f_data_OL_index,'Status'] = False\n",
    "\n",
    "            #UPDATE FOR WAREHOUSE CAP\n",
    "            f_wh_cap_index = dataWhCap_sub[dataWhCap_sub['Plant ID']==selected_plant_code].index.values #filter index finding\n",
    "            counter = dataWhCap_sub['Daily Capacity '][f_wh_cap_index]-1\n",
    "            dataWhCap.at[f_wh_cap_index,'Daily Capacity '] = counter\n",
    "            current_transaction+=1\n",
    "            # print(current_transaction)\n",
    "\n",
    "            order_carrier_record.iloc[-1,order_carrier_record.columns.get_loc('Cost')] = total_cost\n",
    "\n",
    "            if use_carrier:\n",
    "\n",
    "                # UPDATE FOR FRIEGHT RATE\n",
    "                dataFR_sub .at[selected_carrier['level_0'][0],'Status'] = False\n",
    "\n",
    "        else:\n",
    "\n",
    "            order_carrier_record = order_carrier_record.head(order_carrier_record.shape[0] -1)\n",
    "\n",
    "    result = [order_carrier_record]\n",
    "    res_aco_t.put(result)\n",
    "    print('[ANT DONE]')"
   ]
  },
  {
   "cell_type": "markdown",
   "metadata": {},
   "source": [
    "## 6.2 Selection Function"
   ]
  },
  {
   "cell_type": "code",
   "execution_count": 8,
   "metadata": {},
   "outputs": [],
   "source": [
    "def selection(dat,type_sel):\n",
    "\n",
    "    cumulative_pheromone,cum_p_segment = 0,0    # Total Pheromones and Each Segmentation of Pheromone.\n",
    "    start_range,end_range = 0,0                 # Range of Each Segmented Pheromone.\n",
    "    data_length = 0                             # Length of Data to be segmentized.\n",
    "    selection_list = []                         # Selection of choices to be segmentized.\n",
    "    roulette_value = random.uniform(0, 1)       # Roulette Value.\n",
    "    target = 0                                  # The Target answer after the Roullete Wheel.\n",
    "\n",
    "    # 1. Eliminate Routes With False Status.\n",
    "    f_status_count = dat['Status'] == True          # [FILTER] Filter the status to only True.\n",
    "    dat = dat.where(f_status_count).dropna()        # Filter the data status to only True and drop NaN values.\n",
    "    data_length = len(dat.index)                    # Find the length of data.\n",
    "    cumulative_pheromone = dat['Pheromone'].sum()   # Accumulate Pheromone for Selection.\n",
    "    \n",
    "    #2. Normalize the Routes in a Uniform Roulette Wheel.\n",
    "    for index,row in dat.iterrows():\n",
    "        cur_list=[]\n",
    "\n",
    "        # 2.1 First ACO Iteration or specfically when the Accumulated Pheromone is 0.\n",
    "        if cumulative_pheromone == 0:\n",
    "            end_range = (index+1)/data_length\n",
    "\n",
    "        # 2.2 next Iterations.\n",
    "        else:\n",
    "            end_range = (cum_p_segment+row['Pheromone']/cumulative_pheromone)\n",
    "            cum_p_segment += row['Pheromone']\n",
    "\n",
    "        # 2.3 Segmentize by range of index/pheromone.\n",
    "        cur_list = [row[0],start_range,end_range]\n",
    "        selection_list.append(cur_list)\n",
    "        start_range = end_range\n",
    "\n",
    "    # 3. Applying the Roulette Wheel to get the Target answer. \n",
    "    for sel_ in selection_list:\n",
    "        if sel_[1] <= roulette_value and sel_[2] >= roulette_value:\n",
    "            probability = \"{:.2f}\".format((sel_[2]-sel_[1])*100)\n",
    "            target = sel_[0]\n",
    "\n",
    "    # 4. If the Data is based on Order ID.\n",
    "    if dat.columns[0] == 'Order ID':\n",
    "        f_order = dat['Order ID'] == target\n",
    "        target = dat.where(f_order).groupby(['Order ID','Service Level','Carrier']).sum().reset_index()\n",
    "        target['Size'] = data_length\n",
    "    \n",
    "    # 5 If the Data is based on Carrier.\n",
    "    elif dat.columns[1] == 'Carrier':\n",
    "        f_carrier = dat['level_0'] == target\n",
    "        target = dat.where(f_carrier).groupby(['level_0','Carrier']).sum().reset_index()\n",
    "        target['Size'] = data_length\n",
    "\n",
    "    # print(type_sel,'\\tSelected Target is ',target,' with the Probability of ',probability,'% [ Roulette Value : ',roulette_value,\" ]\")\n",
    "    return target"
   ]
  },
  {
   "cell_type": "markdown",
   "metadata": {},
   "source": [
    "## 6.3 Objective/Fitness Function"
   ]
  },
  {
   "cell_type": "code",
   "execution_count": 9,
   "metadata": {},
   "outputs": [],
   "source": [
    "def objective_function(res):\n",
    "\n",
    "    lowest_cost = res[0][0]['Cost'].sum()\n",
    "    lowest_cost_index = 0\n",
    "    fitness = []\n",
    "\n",
    "    for index_ocr,ocr in enumerate(res):\n",
    "        if ocr[0]['Cost'].sum() < lowest_cost:\n",
    "            lowest_cost = ocr[0]['Cost'].sum()\n",
    "            lowest_cost_index = index_ocr\n",
    "\n",
    "    for index_ocr,ocr in enumerate(res):\n",
    "        fitness_value = 1/(ocr[0]['Cost'].sum()/lowest_cost)\n",
    "        fitness.append(fitness_value)\n",
    "\n",
    "    print('[ ',lowest_cost_index,' ] - LOWEST COST: $',lowest_cost)\n",
    "    print('\\nFitness')\n",
    "    print(fitness)\n",
    "    \n",
    "    return lowest_cost,lowest_cost_index, fitness"
   ]
  },
  {
   "cell_type": "markdown",
   "metadata": {},
   "source": [
    "## 6.4 Transportation Cost Function"
   ]
  },
  {
   "cell_type": "code",
   "execution_count": 11,
   "metadata": {},
   "outputs": [],
   "source": [
    "def transportation_cost(selected_path_order,selected_carrier,dataOL_sub,dataFR_sub):\n",
    "    \n",
    "    transportation_cost = 0\n",
    "    data_OL = dataOL_sub.loc[dataOL['Order ID'] == selected_path_order['Order ID'][0]].reset_index()\n",
    "    data_FR = dataFR_sub.loc[selected_carrier['level_0'][0]]\n",
    "\n",
    "    if data_OL['Weight'][0] < data_FR['minm_wgh_qty']:\n",
    "        transportation_cost = 'Not Enough Weight'\n",
    "    elif data_OL['Weight'][0] > data_FR['max_wgh_qty']:\n",
    "        transportation_cost = 'Exceeded Weight'\n",
    "        \n",
    "    else:\n",
    "        if data_FR['mode_dsc'] == 'GROUND':\n",
    "            transportation_cost = (data_FR['rate']/data_FR['max_wgh_qty'])*data_OL['Weight'][0]\n",
    "        else:\n",
    "            transportation_cost = data_FR['rate']*data_OL['Weight'][0]\n",
    "\n",
    "        if transportation_cost < data_FR['minimum cost']:\n",
    "            transportation_cost = data_FR['minimum cost']\n",
    "\n",
    "    return transportation_cost"
   ]
  },
  {
   "cell_type": "markdown",
   "metadata": {},
   "source": [
    "## 6.5 Warehouse Cost and Capacity Function"
   ]
  },
  {
   "cell_type": "code",
   "execution_count": 12,
   "metadata": {},
   "outputs": [],
   "source": [
    "def warehouse_cost(dataWhCost_sub,dataWhCap_sub,selected_path_order,selected_plant_code,dataOL_sub):\n",
    "\n",
    "    data_Cap = dataWhCap_sub.loc[dataWhCap_sub['Plant ID'] == selected_plant_code].reset_index()\n",
    "    data_Cap_index = dataWhCap_sub.loc[dataWhCap_sub['Plant ID'] == selected_plant_code]\n",
    "    data_Cap_index = data_Cap_index.index[0]\n",
    "    data_Cost = dataWhCost_sub.loc[dataWhCost_sub['WH'] == selected_plant_code].reset_index()\n",
    "    data_OL = dataOL_sub.loc[dataOL_sub['Order ID'] == selected_path_order['Order ID'][0]].reset_index()\n",
    "    wh_cost = 0\n",
    "\n",
    "    if data_Cap['Daily Capacity '][0] > 0:\n",
    "        wh_cost = data_OL['Unit quantity'][0]*data_Cost['Cost/unit'][0]\n",
    "\n",
    "    else:\n",
    "        wh_cost = 'Warehouse is Full!'\n",
    "\n",
    "    return wh_cost"
   ]
  },
  {
   "cell_type": "markdown",
   "metadata": {},
   "source": [
    "## 6.6 Pheromone Update Function "
   ]
  },
  {
   "cell_type": "code",
   "execution_count": 13,
   "metadata": {},
   "outputs": [],
   "source": [
    "def pheromone_update(res,fitness):\n",
    "\n",
    "    for ft in range(len(fitness)):\n",
    "        carrier_l = res[ft][0]['Carrier Index'].where(res[ft][0]['Carrier Index'] != 'No Carrier').dropna().tolist()\n",
    "        order_l = res[ft][0]['Order ID'].tolist()\n",
    "\n",
    "        for ol in range(len(order_l)):\n",
    "            f_data_OL_index = dataOL[dataOL['Order ID']==order_l[ol]].index.values\n",
    "            dataOL.at[f_data_OL_index,'Pheromone'] = dataOL['Pheromone'][f_data_OL_index] + fitness[2][ft]\n",
    "\n",
    "        if carrier_l:\n",
    "            for cl in range(len(carrier_l)):\n",
    "                dataFR.at[carrier_l[cl],'Pheromone'] = dataFR['Pheromone'][int(carrier_l[cl])] + fitness[2][ft]\n",
    "\n",
    "    return dataOL,dataFR"
   ]
  },
  {
   "cell_type": "code",
   "execution_count": 76,
   "metadata": {},
   "outputs": [
    {
     "name": "stdout",
     "output_type": "stream",
     "text": [
      "     Port Plant Code      Order ID Service ID     Carrier Carrier Index  \\\n",
      "0  PORT09    PLANT16  1.447143e+09        CRF  No Carrier    No Carrier   \n",
      "1  PORT09    PLANT16  1.447233e+09        CRF  No Carrier    No Carrier   \n",
      "2  PORT05    PLANT04  1.447391e+09        CRF  No Carrier    No Carrier   \n",
      "\n",
      "   Status  Pheromone         Cost  \n",
      "0    True          0  1796.939827  \n",
      "1    True          0  9238.113728  \n",
      "2    True          0  9387.232874  \n",
      "meow\n"
     ]
    }
   ],
   "source": [
    "print(res[1][0])\n",
    "meow = ['hiok']\n",
    "if meow:\n",
    "    print('meow')"
   ]
  },
  {
   "cell_type": "markdown",
   "metadata": {},
   "source": [
    "## 6.7 Fresh DataFrames"
   ]
  },
  {
   "cell_type": "code",
   "execution_count": 14,
   "metadata": {},
   "outputs": [],
   "source": [
    "def fresh_dataframes(OL, FR, WCap, WCost):\n",
    "\n",
    "    dataOL, dataFR, dataWhCap, dataWhCost = OL, FR, WCap, WCost\n",
    "    return dataOL, dataFR, dataWhCap, dataWhCost"
   ]
  },
  {
   "cell_type": "code",
   "execution_count": null,
   "metadata": {},
   "outputs": [],
   "source": []
  }
 ],
 "metadata": {
  "kernelspec": {
   "display_name": "Python 3.8.10 64-bit",
   "name": "python3810jvsc74a57bd0767d51c1340bd893661ea55ea3124f6de3c7a262a8b4abca0554b478b1e2ff90"
  },
  "language_info": {
   "codemirror_mode": {
    "name": "ipython",
    "version": 3
   },
   "file_extension": ".py",
   "mimetype": "text/x-python",
   "name": "python",
   "nbconvert_exporter": "python",
   "pygments_lexer": "ipython3",
   "version": "3.8.10"
  },
  "metadata": {
   "interpreter": {
    "hash": "767d51c1340bd893661ea55ea3124f6de3c7a262a8b4abca0554b478b1e2ff90"
   }
  },
  "orig_nbformat": 2
 },
 "nbformat": 4,
 "nbformat_minor": 2
}